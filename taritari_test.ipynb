{
 "cells": [
  {
   "cell_type": "code",
   "execution_count": 5,
   "metadata": {},
   "outputs": [],
   "source": [
    "## TARITARiのキャラを統計する\n",
    "import matplotlib.pyplot as plot\n",
    "import numpy as poyo\n",
    "colorlist = ['#e41a1c', '#377eb8', '#4daf4a', '#984ea3', '#ff7f00', '#ffff33', '#a65628', '#f781bf' , '#ff00ff', '#00ff00']\n",
    "l_male = [['keisuke', 'tayoru', 'atsuhiro', 'taichi', 'shoichi', 'makoto'], [178,159,174,168,185,150]]\n",
    "l_female = [['mahiru', 'tomoko', 'naoko', 'konatsu', 'wakana', 'sawa', 'shiho', 'haruka'],[167,160,173,146,160,166,177,170]]"
   ]
  },
  {
   "cell_type": "code",
   "execution_count": 15,
   "metadata": {},
   "outputs": [
    {
     "ename": "SyntaxError",
     "evalue": "invalid syntax (<ipython-input-15-ae4119147772>, line 2)",
     "output_type": "error",
     "traceback": [
      "\u001b[1;36m  File \u001b[1;32m\"<ipython-input-15-ae4119147772>\"\u001b[1;36m, line \u001b[1;32m2\u001b[0m\n\u001b[1;33m    poyo.mean(l_female[1])\u001b[0m\n\u001b[1;37m       ^\u001b[0m\n\u001b[1;31mSyntaxError\u001b[0m\u001b[1;31m:\u001b[0m invalid syntax\n"
     ]
    }
   ],
   "source": [
    "print('男性キャラの身長の平均は{0}',format(poyo.mean(l_male[1])))\n",
    "poyo.mean(l_female[1])"
   ]
  },
  {
   "cell_type": "code",
   "execution_count": null,
   "metadata": {},
   "outputs": [],
   "source": []
  }
 ],
 "metadata": {
  "kernelspec": {
   "display_name": "Python 3",
   "language": "python",
   "name": "python3"
  },
  "language_info": {
   "codemirror_mode": {
    "name": "ipython",
    "version": 3
   },
   "file_extension": ".py",
   "mimetype": "text/x-python",
   "name": "python",
   "nbconvert_exporter": "python",
   "pygments_lexer": "ipython3",
   "version": "3.7.4"
  }
 },
 "nbformat": 4,
 "nbformat_minor": 2
}
