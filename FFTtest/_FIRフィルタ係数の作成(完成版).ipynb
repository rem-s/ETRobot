{
 "cells": [
  {
   "cell_type": "code",
   "execution_count": 1,
   "metadata": {},
   "outputs": [
    {
     "data": {
      "text/plain": [
       "<Figure size 640x480 with 1 Axes>"
      ]
     },
     "metadata": {},
     "output_type": "display_data"
    },
    {
     "data": {
      "text/plain": [
       "<Figure size 640x480 with 1 Axes>"
      ]
     },
     "metadata": {},
     "output_type": "display_data"
    },
    {
     "data": {
      "text/plain": [
       "<Figure size 640x480 with 1 Axes>"
      ]
     },
     "metadata": {},
     "output_type": "display_data"
    },
    {
     "name": "stdout",
     "output_type": "stream",
     "text": [
      "hw(n)= [-0.002993565708123649, -0.01312065862312761, -0.010498052559734334, 0.0836524630661973, 0.2627126149214665, 0.36, 0.2627126149214665, 0.0836524630661973, -0.010498052559734334, -0.01312065862312761, -0.002993565708123649]\n",
      "\n",
      "[-0.00299 -0.01312 -0.0105   0.08365  0.26271  0.36     0.26271  0.08365\n",
      " -0.0105  -0.01312 -0.00299]\n"
     ]
    }
   ],
   "source": [
    "# フィルタ係数を求める\n",
    "# 4msで取っているので, サンプリング周波数は1/0.004 = 250 ?\n",
    "# カットオフ周波数を工夫する必要あり\n",
    "\n",
    "import numpy as np\n",
    "import matplotlib.pyplot as plt\n",
    "\n",
    "# sample_freq = 8000           # サンプリング周波数\n",
    "sample_freq = 250\n",
    "# cutoff_freq = 1000           # 遮断周波数（カットオフ周波数）(Hz)\n",
    "cutoff_freq = 45\n",
    "# cutoff_freq = 20\n",
    "N = 11                       # インパルス応答の個数\n",
    "T = 1/sample_freq            # 周期\n",
    "g_delay = T * ((N-1) / 2)   # 群遅延\n",
    "alpha = 0.540               # ハミング窓\n",
    "omega_c = 2 * np.pi * cutoff_freq\n",
    "abs_N = N + int(g_delay)\n",
    "hw = [0] * abs_N\n",
    "w = [0] * abs_N\n",
    "h = [0] * abs_N\n",
    "\n",
    "for i in range(int(g_delay), abs_N, 1):\n",
    "    # 一般化ハミング窓の計算\n",
    "    w[i] = alpha + ((1-alpha) * np.cos((2*np.pi*(i-(g_delay/T))) / (N-1)))\n",
    "    \n",
    "    # フィルタ係数の計算\n",
    "    # 分母が0になる場合, sin(x)/x = 1 (x -> 0)を利用して計算\n",
    "    if np.pi*(i-(g_delay/T)) == 0.0:\n",
    "        h[i] = (omega_c*T) / np.pi\n",
    "    else:\n",
    "        h[i] = np.sin((i-(g_delay/T))*omega_c*T) / (np.pi*(i-(g_delay/T)))\n",
    "    # 窓関数がかかったフィルタ係数hw(n)を計算\n",
    "    hw[i] = w[i] * h[i]\n",
    "\n",
    "plt.title('window factor h(n)')\n",
    "plt.xlabel('n')\n",
    "plt.ylabel('w(n)')\n",
    "plt.plot(w)\n",
    "plt.show()\n",
    "    \n",
    "plt.title('filter factor h(n)')\n",
    "plt.xlabel('n')\n",
    "plt.ylabel('h(n)')\n",
    "plt.plot(h)\n",
    "plt.show()\n",
    "    \n",
    "plt.title('windowed filter factor hw(n)')\n",
    "plt.xlabel('n')\n",
    "plt.ylabel('hw(n)')\n",
    "plt.plot(hw)\n",
    "plt.show()\n",
    "\n",
    "print('hw(n)=', hw)\n",
    "print()\n",
    "print(np.round(hw, 5))"
   ]
  }
 ],
 "metadata": {
  "kernelspec": {
   "display_name": "Python 3",
   "language": "python",
   "name": "python3"
  },
  "language_info": {
   "codemirror_mode": {
    "name": "ipython",
    "version": 3
   },
   "file_extension": ".py",
   "mimetype": "text/x-python",
   "name": "python",
   "nbconvert_exporter": "python",
   "pygments_lexer": "ipython3",
   "version": "3.7.3"
  }
 },
 "nbformat": 4,
 "nbformat_minor": 2
}
